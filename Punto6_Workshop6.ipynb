{
 "cells": [
  {
   "cell_type": "markdown",
   "id": "da93267f-c6cb-4b26-bce4-e67c902cff6a",
   "metadata": {},
   "source": [
    "# Punto 6. Workshop 6"
   ]
  },
  {
   "cell_type": "code",
   "execution_count": 39,
   "id": "5ffd26d5-f2bf-4fbc-8405-782a4d0b3c0f",
   "metadata": {},
   "outputs": [],
   "source": [
    "import geopandas as gpd\n",
    "import pandas as pd\n",
    "import matplotlib.pyplot as plt\n",
    "from shapely.geometry import Point\n",
    "import contextily as ctx\n",
    "import shapely\n",
    "\n",
    "plt.rcParams['figure.figsize'] = (10, 8)\n",
    "\n",
    "root_folder= r\"/home/DATA\"\n",
    "\n",
    "\n",
    "SHAPE_MUN = root_folder+r\"/municipios_colombia.shp\"\n",
    "EVA_CSV   = root_folder+'/Evaluaciones_Agropecuarias_Municipales_EVA.csv'\n",
    "EST_CSV   = root_folder+'/Catalogo_Estaciones_IDEAM.csv'\n",
    "SHAPE_VIAS = root_folder+r\"/vias_colombia_V2.shp\""
   ]
  },
  {
   "cell_type": "code",
   "execution_count": null,
   "id": "c52a6f2d-a6d0-4b9a-ad4e-dcd4b41a84a5",
   "metadata": {},
   "outputs": [],
   "source": [
    "gdf_vias = gpd.read_file(SHAPE_VIAS).to_crs(epsg=9377)"
   ]
  },
  {
   "cell_type": "code",
   "execution_count": null,
   "id": "28f05de5-7234-4590-92b5-12a44e7bf178",
   "metadata": {},
   "outputs": [],
   "source": [
    "# Municipalities → GeoDataFrame \n",
    "gdf_mun = gpd.read_file(SHAPE_MUN).to_crs(epsg=9377)\n",
    "\n",
    "# EVA table, rename code column\n",
    "eva = (pd.read_csv(EVA_CSV)\n",
    "         .rename(columns={\"CÓD. MUN.\": \"cod_mun\"}))\n",
    "eva[\"CULTIVO\"] = eva[\"CULTIVO\"].astype(str)      # ensure string\n",
    "\n",
    "# IDEAM catalogue → GeoDataFrame (clean \"(lat, lon)\")\n",
    "df_est = pd.read_csv(EST_CSV)\n",
    "coords = (df_est[\"Ubicación\"]\n",
    "            .str.strip(\"()\")\n",
    "            .str.split(\",\", expand=True)\n",
    "            .astype(float))\n",
    "df_est[\"lat\"], df_est[\"lon\"] = coords[0], coords[1]\n",
    "\n",
    "gdf_est = gpd.GeoDataFrame(\n",
    "    df_est,\n",
    "    geometry=gpd.points_from_xy(df_est[\"lon\"], df_est[\"lat\"]),\n",
    "    crs=\"EPSG:4326\"\n",
    ").to_crs(epsg=9377)\n",
    "\n",
    "print(f\"{len(gdf_mun):,} municipalities • {len(gdf_est):,} stations • \"\n",
    "      f\"{len(eva):,} EVA rows\")\n",
    "\n",
    "\n",
    "#Homogenise municipalities codes\n",
    "gdf_mun[\"MPIO_CCDGO\"] = gdf_mun[\"MPIO_CCDGO\"].astype(str).str.zfill(5)\n",
    "eva[\"cod_mun\"]        = eva[\"cod_mun\"].astype(str).str.zfill(5)"
   ]
  },
  {
   "cell_type": "markdown",
   "id": "997fc899-7baf-45fa-87c6-6d20fb205ba1",
   "metadata": {},
   "source": [
    "# 6.2 Pasos de análisis básicos - Nivel 1: Selección municipal"
   ]
  },
  {
   "cell_type": "code",
   "execution_count": null,
   "id": "ecae0fc5-3d84-4194-ba9a-5cc4747423b5",
   "metadata": {},
   "outputs": [],
   "source": [
    "gdf_mun.head()\n",
    "\n",
    "gdf_mun['AREA'] = gdf_mun.area\n",
    "\n",
    "print (gdf_mun)"
   ]
  },
  {
   "cell_type": "code",
   "execution_count": null,
   "id": "fa2146c6-0063-45e3-afdf-7bc757aead42",
   "metadata": {},
   "outputs": [],
   "source": [
    "# Paso 1: Convertir la columna a tipo numérico, manejando posibles errores\n",
    "\n",
    "gdf_mun[\"DPTO_CCDGO_NUM\"] = pd.to_numeric(gdf_mun[\"DPTO_CCDGO\"], errors='coerce')\n",
    "\n",
    "# Paso 2: Filtrar usando la nueva columna numérica\n",
    "# Aquí es importante asegurarte de que 15 sea el tipo correcto (int) para la comparación\n",
    "Boyaca = gdf_mun[gdf_mun[\"DPTO_CCDGO_NUM\"] == 15].copy()\n",
    "\n",
    "# Ahora, verifica si Boyaca está vacío antes de continuar\n",
    "if Boyaca.empty:\n",
    "    print(\"¡Advertencia! No se encontraron municipios para el código de departamento 15.\")\n",
    "    print(\"Revisa los valores únicos en la columna 'DPTO_CCDGO' de gdf_mun para depurar.\")\n",
    "    # Opcional: mostrar los primeros valores para inspección\n",
    "    # print(gdf_mun[\"DPTO_CCDGO\"].head())\n",
    "    # print(gdf_mun[\"DPTO_CCDGO\"].dtype)\n",
    "else:\n",
    "    print(f\"Se encontraron {len(Boyaca)} municipios para el código 15.\")\n",
    "    boyaca_union_geometry = Boyaca.geometry.union_all()\n",
    "    Boyaca_vias = gdf_vias[gdf_vias.intersects(boyaca_union_geometry)]\n",
    "    \n",
    "    Boyaca_vias =  gpd.clip(Boyaca_vias,Boyaca)\n",
    "    print(\"\\n--- Vías encontradas en Boyacá (todas las municipalidades) ---\")\n",
    "    print(Boyaca_vias)"
   ]
  },
  {
   "cell_type": "code",
   "execution_count": null,
   "id": "04f945b9-4f33-45a3-a58f-1174eb08a54b",
   "metadata": {},
   "outputs": [],
   "source": [
    "Boyaca.head()"
   ]
  },
  {
   "cell_type": "code",
   "execution_count": null,
   "id": "4852ee57-e67a-42d3-bd20-e0f5b0c4077a",
   "metadata": {},
   "outputs": [],
   "source": [
    "Boyaca_poligono = Boyaca.dissolve(by = 'DPTO_CCDGO_NUM')\n",
    "\n",
    "Boyaca_poligono.head()\n",
    "print(\"\\nGeoDataFrame Boyaca_poligono (después de dissolve):\\n\", Boyaca_poligono)"
   ]
  },
  {
   "cell_type": "code",
   "execution_count": null,
   "id": "287d5f75-8956-4668-b881-4e3a322de91d",
   "metadata": {},
   "outputs": [],
   "source": [
    "# --- Plotting (Visualización) ---\n",
    "print(\"\\n--- Generando el gráfico ---\")\n",
    "fig, ax = plt.subplots(1, 1, figsize=(10, 10)) # Crear figura y ejes explícitamente para mejor control\n",
    "\n",
    "# Plotear el polígono de Boyacá (disuelto)\n",
    "Boyaca_poligono.plot(ax=ax, color=\"lightgreen\", edgecolor=\"black\", alpha=0.7)\n",
    "\n",
    "# Plotear las vías de Boyacá encima del polígono\n",
    "if not Boyaca_vias.empty: # Solo plotea si hay vías\n",
    "    Boyaca_vias.plot(ax=ax, color=\"red\", linewidth=2)\n",
    "    print(\"Vías ploteadas con éxito.\")\n",
    "else:\n",
    "    print(\"Advertencia: Boyaca_vias está vacío, no se plotearon vías.\")\n",
    "\n",
    "ax.set_title(\"Vías sobre el Polígono de Boyacá\")\n",
    "ax.set_xlabel(\"Longitud\")\n",
    "ax.set_ylabel(\"Latitud\")\n",
    "plt.grid(True, linestyle='--', alpha=0.7)\n",
    "plt.show()"
   ]
  },
  {
   "cell_type": "code",
   "execution_count": null,
   "id": "9e5f9fe3-864b-4b9c-83ca-924fec54d75e",
   "metadata": {},
   "outputs": [],
   "source": [
    "Boyaca = gdf_mun[gdf_mun[\"DPTO_CCDGO\"].str.upper().str.contains(\"15\")].copy()\n",
    "Boyaca_bool = gdf_est.intersects(Boyaca.geometry.iloc[0])\n",
    "Boyaca_stations = gdf_est[Boyaca_bool]\n",
    "print(Boyaca_stations)\n"
   ]
  },
  {
   "cell_type": "code",
   "execution_count": null,
   "id": "4a8ed6c9-f110-4e4f-86e3-539f2113062f",
   "metadata": {},
   "outputs": [],
   "source": [
    "Boyaca.head()\n"
   ]
  },
  {
   "cell_type": "code",
   "execution_count": null,
   "id": "09e8e34f-fca9-4283-828d-2c48e04ba0cd",
   "metadata": {},
   "outputs": [],
   "source": [
    "ax = Boyaca.plot(color=\"none\", edgecolor=\"grey\", figsize=(8, 8))\n",
    "Boyaca_stations.plot(ax=ax, color=\"red\", markersize=6)\n",
    "plt.title(\"IDEAM stations (projected) over Depto 18\")\n",
    "plt.show()"
   ]
  },
  {
   "cell_type": "code",
   "execution_count": null,
   "id": "5075bae7-f988-45ec-93b4-6d78ff7244c9",
   "metadata": {},
   "outputs": [],
   "source": [
    "ax = Boyaca_poligono.plot(color=\"none\", edgecolor=\"grey\", figsize=(8, 8))\n",
    "Boyaca_stations.plot(ax=ax, color=\"red\", markersize=6)\n",
    "plt.title(\"IDEAM stations (projected) over Depto 18\")\n",
    "plt.show()"
   ]
  },
  {
   "cell_type": "code",
   "execution_count": null,
   "id": "dfe4c298-232e-4026-9b72-a52119b831d8",
   "metadata": {},
   "outputs": [],
   "source": [
    "ax = Boyaca_poligono.plot(color=\"none\", edgecolor=\"grey\", figsize=(8, 8))\n",
    "Boyaca_vias.plot(ax=ax, color=\"red\", markersize=6)\n",
    "plt.title(\"IDEAM stations (projected) over Depto 18\")\n",
    "plt.show()"
   ]
  },
  {
   "cell_type": "code",
   "execution_count": null,
   "id": "d3861fa1-abf4-4d0a-b4c0-7fd85cd3c254",
   "metadata": {},
   "outputs": [],
   "source": [
    "\n",
    "Boyaca_vias_copy = Boyaca_vias.copy()\n",
    "\n",
    "# Create a 10 km buffer around each station\n",
    "Boyaca_vias_copy['buffer_10km'] = Boyaca_vias_copy.geometry.buffer(10000)\n",
    "\n",
    "# Visualise one example station buffer\n",
    "ax = Boyaca_poligono.plot(color='none', edgecolor='lightgrey', figsize=(8, 8))\n",
    "\n",
    "# Usa Boyaca_vias_copy para el buffer\n",
    "gpd.GeoSeries(Boyaca_vias_copy['buffer_10km']).plot(ax=ax, facecolor='lightblue', edgecolor='blue', alpha=0.5)\n",
    "Boyaca_vias_copy.plot(ax=ax, color='red', markersize=20) # También usa la copia aquí\n",
    "\n",
    "plt.title(\"10 km Buffers around vias Boyaca\")\n",
    "plt.show()"
   ]
  },
  {
   "cell_type": "code",
   "execution_count": null,
   "id": "e4bba24b-8570-4c33-b989-abd46d150e79",
   "metadata": {},
   "outputs": [],
   "source": [
    "Boyaca_poligono.head()"
   ]
  },
  {
   "cell_type": "code",
   "execution_count": null,
   "id": "92a4b167-9a33-40a8-ae47-17d7783eba72",
   "metadata": {},
   "outputs": [],
   "source": [
    "# 1. Spatial join: each station takes the attributes of the municipality it falls in\n",
    "stations_with_mun = gpd.sjoin(\n",
    "    Boyaca_stations,                     # left: point layer\n",
    "    gdf_mun[[\"MPIO_CCDGO\", \"MPIO_CNMBR\",\"MPIO_CCDGO\", \"geometry\"]],  # right: polygon layer\n",
    "    how=\"left\",\n",
    "    predicate=\"within\"           # point inside polygon\n",
    ")\n",
    "\n",
    "# 2. Inspect the result\n",
    "stations_with_mun[[\"Codigo\", \"MPIO_CNMBR\", \"MPIO_CCDGO\"]].head()"
   ]
  },
  {
   "cell_type": "code",
   "execution_count": null,
   "id": "2d1d34d3-4bf3-4fad-a16a-989712915278",
   "metadata": {},
   "outputs": [],
   "source": [
    "import numpy as np\n",
    "import shapely\n",
    "\n",
    "# Create a regular grid covering Colombia\n",
    "\n",
    "# Bounds of the municipalities layer\n",
    "bounds = gdf_mun.total_bounds\n",
    "xmin, ymin, xmax, ymax = bounds\n",
    "\n",
    "# Define grid resolution (example: 100 km x 100 km grid → 100_000 m)\n",
    "res = 100000\n",
    "\n",
    "# Build grid coordinates\n",
    "cols = list(range(int(np.floor(xmin)), int(np.ceil(xmax + res)), res))\n",
    "rows = list(range(int(np.floor(ymin)), int(np.ceil(ymax + res)), res))\n",
    "rows.reverse()\n",
    "\n",
    "# Build polygons for each grid cell\n",
    "polygons = []\n",
    "for x in cols:\n",
    "    for y in rows:\n",
    "        polygons.append(\n",
    "            shapely.Polygon([\n",
    "                (x, y),\n",
    "                (x + res, y),\n",
    "                (x + res, y - res),\n",
    "                (x, y - res)\n",
    "            ])\n",
    "        )\n",
    "\n",
    "# Create grid GeoDataFrame\n",
    "grid = gpd.GeoDataFrame({'geometry': polygons}, crs=gdf_mun.crs)\n",
    "\n",
    "# Remove cells that fall outside the total extent (intersect municipalities only)\n",
    "sel = grid.intersects(shapely.box(*bounds))\n",
    "grid = grid[sel]\n",
    "\n",
    "# Add unique ID\n",
    "grid['id'] = grid.index\n",
    "\n",
    "grid.head()"
   ]
  },
  {
   "cell_type": "code",
   "execution_count": null,
   "id": "824fd2d5-9ded-42c1-91cc-c1b3990499e8",
   "metadata": {},
   "outputs": [],
   "source": [
    "eva.head()"
   ]
  },
  {
   "cell_type": "code",
   "execution_count": null,
   "id": "4535de4c-d4a9-4e46-a46c-1b107fa3d222",
   "metadata": {},
   "outputs": [],
   "source": [
    "gdf_mun[\"MPIO_CCDGO\"] = gdf_mun[\"MPIO_CCDGO\"].astype(str).str.zfill(5)\n",
    "eva[\"cod_mun\"]        = eva[\"cod_mun\"].astype(str).str.zfill(5)"
   ]
  },
  {
   "cell_type": "code",
   "execution_count": null,
   "id": "464532e5-0aca-45a8-aee6-ae329b39e346",
   "metadata": {},
   "outputs": [],
   "source": [
    "# Calculate polygon area in square metres\n",
    "gdf_vias['longitud'] = gdf_vias.length\n",
    "\n",
    "gdf_vias.head()"
   ]
  },
  {
   "cell_type": "code",
   "execution_count": null,
   "id": "546e2947-b2d8-40c6-b12d-3461437e06ad",
   "metadata": {},
   "outputs": [],
   "source": [
    "#vias_with_mun = gpd.sjoin(\n",
    " #   gdf_mun,                     # left: point layer\n",
    "  #  gdf_vias[[\"longitud\", \"geometry\"]],  # right: polygon layer\n",
    "   # how=\"left\",\n",
    "    #predicate=\"intersects\"           # point inside polygon\n",
    "#)\n",
    "\n",
    "# 2. Inspect the result\n",
    "#vias_with_mun.head()\n"
   ]
  },
  {
   "cell_type": "code",
   "execution_count": null,
   "id": "d9ab6a52-1067-4b50-beb6-f11c4616fbc2",
   "metadata": {},
   "outputs": [],
   "source": [
    "#gdf_interseccion = gdf_mun.overlay(vias_with_mun, how='intersection')\n",
    "#gdf_interseccion.head()"
   ]
  },
  {
   "cell_type": "code",
   "execution_count": null,
   "id": "82ddbe37-a0fa-4320-9041-240132aec839",
   "metadata": {},
   "outputs": [],
   "source": [
    "#mun_grid = gdf_interseccion.overlay(grid)\n",
    "\n",
    "# Keep only needed columns\n",
    "#mun_grid = mun_grid[['MPIO_CNMBR', 'longitud', 'geometry']]\n",
    "\n",
    "# Compute the area of each piece (intersection area)\n",
    "#mun_grid['area_sub'] = mun_grid.area\n",
    "\n",
    "#mun_grid.head()"
   ]
  },
  {
   "cell_type": "code",
   "execution_count": null,
   "id": "72175a8b-b669-4fc7-a893-9c4ed613437a",
   "metadata": {},
   "outputs": [],
   "source": [
    "#ax = mun_grid.plot(\n",
    " #   column='area_sub',\n",
    "  #  edgecolor='black',\n",
    "   # legend=True,\n",
    "    #cmap='Reds',\n",
    "   # figsize=(10, 10),\n",
    "    #vmin=100000000,\n",
    "   # vmax=10000000000\n",
    "#)\n",
    "\n",
    "# Title\n",
    "#plt.title(\"Effect of .overlay:\")\n",
    "#plt.show()"
   ]
  },
  {
   "cell_type": "code",
   "execution_count": null,
   "id": "e9073772-8b98-4986-ba6b-9cdb275655cc",
   "metadata": {},
   "outputs": [],
   "source": [
    "import geopandas as gpd\n",
    "from shapely.geometry import Polygon"
   ]
  },
  {
   "cell_type": "code",
   "execution_count": null,
   "id": "f149ad72-d9a6-4543-be2d-44d728d4bfbc",
   "metadata": {},
   "outputs": [],
   "source": [
    "# Calculate polygon area in square metres\n",
    "Boyaca_vias_copy['longitud'] = Boyaca_vias_copy.length\n",
    "\n",
    "Boyaca_vias_copy.head()"
   ]
  },
  {
   "cell_type": "code",
   "execution_count": null,
   "id": "0eff960b-0819-46e6-a1f2-0547dc039b6f",
   "metadata": {},
   "outputs": [],
   "source": [
    "Boyaca.head()"
   ]
  },
  {
   "cell_type": "code",
   "execution_count": null,
   "id": "ab5460f4-1863-41e0-b6fd-696bec0b3241",
   "metadata": {},
   "outputs": [],
   "source": [
    "# Realizar la intersección\n",
    "union_gdf = gpd.overlay(Boyaca, Boyaca_vias_copy,keep_geom_type=False)\n",
    "union_gdf.tail()"
   ]
  },
  {
   "cell_type": "code",
   "execution_count": null,
   "id": "89643352-72df-494d-a0e0-01922efec5bc",
   "metadata": {},
   "outputs": [],
   "source": [
    "#Para verificar si quedo bien el overlay\n",
    "#Tunja_vias = union_gdf[union_gdf['MPIO_CCDGO']=='00332']\n",
    "#Tunja_vias.head()"
   ]
  },
  {
   "cell_type": "code",
   "execution_count": null,
   "id": "c99718c0-a288-4e31-aa91-9bcaa37ca34a",
   "metadata": {},
   "outputs": [],
   "source": [
    "# Calculate polygon area in square metres\n",
    "union_gdf['longitud_nueva'] = union_gdf.length\n",
    "\n",
    "union_gdf.head()"
   ]
  },
  {
   "cell_type": "code",
   "execution_count": null,
   "id": "2c0bc8a2-3462-4936-8b47-d04dbc2c08ae",
   "metadata": {},
   "outputs": [],
   "source": [
    "#para verificar si efectivamente se realizaron los ajustes\n",
    "\n",
    "#print(\"antes\",Tunja_vias.head(1))\n",
    "#Tunja_vias[\"longitufd_guican\"]=Tunja_vias.length\n",
    "#print(\"despues\",Tunja_vias.head(1))"
   ]
  },
  {
   "cell_type": "code",
   "execution_count": null,
   "id": "9c573bbc-2208-43ee-ad84-0d96253ce9c4",
   "metadata": {},
   "outputs": [],
   "source": [
    "#ax = Tunja_vias.plot(\n",
    "#    column='longitud',\n",
    "#    edgecolor='black',\n",
    "#    legend=True,\n",
    "#    cmap='Reds',\n",
    "#    figsize=(10, 10),\n",
    "#    vmin=100000000,\n",
    "#    vmax=10000000000\n",
    "#)\n",
    "\n",
    "# Title\n",
    "#plt.title(\"Effect of .overlay:\")\n",
    "#plt.show()"
   ]
  },
  {
   "cell_type": "code",
   "execution_count": null,
   "id": "b70538ff-5a6f-4708-9cf4-1edc4a3d8ed4",
   "metadata": {},
   "outputs": [],
   "source": [
    "valores_unicos = union_gdf['Codigo_Mun'].unique()\n",
    "\n",
    "# Imprimir los valores únicos\n",
    "print(\"Valores únicos de la columna 'Codigo_Mun':\")\n",
    "print(valores_unicos)"
   ]
  },
  {
   "cell_type": "code",
   "execution_count": null,
   "id": "faf0c5ec-71fd-4ec1-b5f5-d7486e10a1d4",
   "metadata": {
    "scrolled": true
   },
   "outputs": [],
   "source": [
    "union_gdf['suma_vias_por_municipio'] = union_gdf.groupby('Codigo_Mun')['longitud_nueva'].cumsum()\n",
    "\n",
    "union_gdf.head()"
   ]
  },
  {
   "cell_type": "code",
   "execution_count": null,
   "id": "e004cfc4-7593-4db2-b1ce-c86c52d569c7",
   "metadata": {},
   "outputs": [],
   "source": [
    "union_gdf_geometria = union_gdf.geometry.geom_type.unique()\n",
    "grid_geometria = grid.geometry.geom_type.unique()\n",
    "\n",
    "print (union_gdf_geometria, 'union_gdf_geometria')\n",
    "\n",
    "print (grid_geometria, 'grid_geometria')"
   ]
  },
  {
   "cell_type": "code",
   "execution_count": null,
   "id": "034e9cc4-4b0f-48ff-9748-49bcf8eb4b2a",
   "metadata": {},
   "outputs": [],
   "source": [
    "# 1. Spatial join: each station takes the attributes of the municipality it falls in\n",
    "vias_por_mun = gpd.sjoin(\n",
    "    union_gdf,                     # left: point layer\n",
    "    gdf_mun[[\"MPIO_CCDGO\", \"MPIO_CNMBR\",\"MPIO_CCDGO\", \"geometry\"]],  # right: polygon layer\n",
    "    how=\"left\",\n",
    "    predicate=\"within\"           # point inside polygon\n",
    ")\n",
    "\n",
    "# 2. Inspect the result\n",
    "vias_por_mun.tail()"
   ]
  },
  {
   "cell_type": "code",
   "execution_count": null,
   "id": "b6a47d16-a9a4-49c8-a51a-ab3d2bdcf80b",
   "metadata": {},
   "outputs": [],
   "source": [
    "municipios_geom = gdf_mun[[\"MPIO_CCDGO\", \"geometry\"]].rename(columns={\"MPIO_CCDGO\": \"MPIO_CCDGO_left\"})\n",
    "\n",
    "# Sumar las longitudes por municipio y luego unir con la geometría del municipio\n",
    "sumatoria_munic_df = vias_por_mun.groupby('MPIO_CCDGO_left')['longitud_nueva'].sum().reset_index()\n",
    "\n",
    "# Ahora, convertir sumatoria_munic_df de nuevo a un GeoDataFrame, uniendo con las geometrías de los municipios.\n",
    "# La clave para el join es 'MPIO_CCDGO_left' (o el nombre de la columna que usas para identificar el municipio).\n",
    "sumatoria_munic = pd.merge(sumatoria_munic_df, municipios_geom, on='MPIO_CCDGO_left', how='left')\n",
    "\n",
    "# Convertir el DataFrame resultante a un GeoDataFrame\n",
    "sumatoria_munic = gpd.GeoDataFrame(sumatoria_munic, geometry='geometry')\n",
    "\n",
    "print(sumatoria_munic)\n",
    "\n"
   ]
  },
  {
   "cell_type": "code",
   "execution_count": null,
   "id": "0c11903e-5c3b-42be-b56c-afb709c36e9b",
   "metadata": {},
   "outputs": [],
   "source": [
    "print(mun_grid.columns)"
   ]
  },
  {
   "cell_type": "code",
   "execution_count": null,
   "id": "0e48e7f1-c89f-49da-a905-845e2c1240a6",
   "metadata": {},
   "outputs": [],
   "source": [
    "# Ahora sí, sumatoria_munic es un GeoDataFrame y puedes usar overlay\n",
    "mun_grid = sumatoria_munic.overlay(grid, how='intersection')\n",
    "\n",
    "print('mun_grid', mun_grid)\n",
    "\n",
    "# Keep only needed columns\n",
    "# Es posible que los nombres de las columnas cambien ligeramente después del overlay,\n",
    "# especialmente si 'MPIO_CNMBR_left' no se propaga directamente o si se generan duplicados.\n",
    "# Revisa las columnas de 'mun_grid' después de la ejecución.\n",
    "mun_grid = mun_grid[['MPIO_CNMBR', 'longitud_nueva', 'geometry']] # Asumo que 'longitud' es la suma de las vías\n",
    "\n",
    "# Compute the area of each piece (intersection area)\n",
    "mun_grid['area_sub'] = mun_grid.area\n",
    "\n",
    "mun_grid.head()"
   ]
  },
  {
   "cell_type": "code",
   "execution_count": null,
   "id": "46058d16-56dd-4fa4-88ef-7313734486ad",
   "metadata": {},
   "outputs": [],
   "source": [
    "sumatoria_munic = vias_por_mun.groupby(['MPIO_CCDGO_left', 'AREA'])['longitud'].sum().reset_index()\n",
    "\n",
    "print (sumatoria_munic)"
   ]
  },
  {
   "cell_type": "code",
   "execution_count": null,
   "id": "5220133d-c62e-47ad-829a-d1e679f3e139",
   "metadata": {},
   "outputs": [],
   "source": [
    "mun_grid = sumatoria_munic.overlay(grid, how='intersection')\n",
    "\n",
    "print ('mun_grid', mun_grid)\n",
    "\n",
    "#Keep only needed columns\n",
    "mun_grid = mun_grid[['MPIO_CNMBR_left', 'suma_vias_por_municipio', 'geometry']]\n",
    "\n",
    "# Compute the area of each piece (intersection area)\n",
    "mun_grid['area_sub'] = mun_grid.area\n",
    "\n",
    "mun_grid.head()"
   ]
  },
  {
   "cell_type": "code",
   "execution_count": null,
   "id": "85aca64f-1faa-4a85-b35e-d1ea9a6c5c1d",
   "metadata": {},
   "outputs": [],
   "source": []
  }
 ],
 "metadata": {
  "kernelspec": {
   "display_name": "Python 3 (ipykernel)",
   "language": "python",
   "name": "python3"
  },
  "language_info": {
   "codemirror_mode": {
    "name": "ipython",
    "version": 3
   },
   "file_extension": ".py",
   "mimetype": "text/x-python",
   "name": "python",
   "nbconvert_exporter": "python",
   "pygments_lexer": "ipython3",
   "version": "3.11.9"
  }
 },
 "nbformat": 4,
 "nbformat_minor": 5
}
