{
 "cells": [
  {
   "cell_type": "code",
   "execution_count": 2,
   "id": "877488bc-2cd9-44e0-b4fa-c09d274987a0",
   "metadata": {},
   "outputs": [
    {
     "name": "stdout",
     "output_type": "stream",
     "text": [
      "hola mundo\n"
     ]
    }
   ],
   "source": [
    "print (\"hola mundo\")"
   ]
  },
  {
   "cell_type": "markdown",
   "id": "8c7fb820-3461-48da-84e4-d1a86a3b69a7",
   "metadata": {},
   "source": [
    "hola mundo"
   ]
  },
  {
   "cell_type": "code",
   "execution_count": null,
   "id": "25564cce-984e-4dc1-a9fa-824bafe1f5c9",
   "metadata": {},
   "outputs": [],
   "source": []
  }
 ],
 "metadata": {
  "kernelspec": {
   "display_name": "Python 3 (ipykernel)",
   "language": "python",
   "name": "python3"
  },
  "language_info": {
   "codemirror_mode": {
    "name": "ipython",
    "version": 3
   },
   "file_extension": ".py",
   "mimetype": "text/x-python",
   "name": "python",
   "nbconvert_exporter": "python",
   "pygments_lexer": "ipython3",
   "version": "3.11.9"
  }
 },
 "nbformat": 4,
 "nbformat_minor": 5
}
